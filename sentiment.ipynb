{
  "nbformat": 4,
  "nbformat_minor": 0,
  "metadata": {
    "colab": {
      "provenance": [],
      "authorship_tag": "ABX9TyNDGo17dnIBcwC0Ilvs9bPD",
      "include_colab_link": true
    },
    "kernelspec": {
      "name": "python3",
      "display_name": "Python 3"
    },
    "language_info": {
      "name": "python"
    }
  },
  "cells": [
    {
      "cell_type": "markdown",
      "metadata": {
        "id": "view-in-github",
        "colab_type": "text"
      },
      "source": [
        "<a href=\"https://colab.research.google.com/github/feeeehhhh/Desafio-Vaga-Junior-Target-Sistemas/blob/main/sentiment.ipynb\" target=\"_parent\"><img src=\"https://colab.research.google.com/assets/colab-badge.svg\" alt=\"Open In Colab\"/></a>"
      ]
    },
    {
      "cell_type": "markdown",
      "source": [
        "Análise de Sentimentos\n",
        "\n",
        "Neste projeto, vamos realizar uma análise de sentimentos de mensagens do Twitter para descobrir o que as pessoas pensam sobre clubes de futebol da Inglaterra.\n"
      ],
      "metadata": {
        "id": "kfvFtixb-mnb"
      }
    },
    {
      "cell_type": "markdown",
      "source": [
        "Passo 1: Instalando as bibliotecas e recarregando o ambiente\n"
      ],
      "metadata": {
        "id": "k2XZgZ9W-39h"
      }
    },
    {
      "cell_type": "code",
      "execution_count": null,
      "metadata": {
        "id": "6AOsQXD6-ct8"
      },
      "outputs": [],
      "source": []
    },
    {
      "cell_type": "code",
      "source": [
        "!pip install -U pip setuptools wheel\n",
        "!pip install -U spacy\n",
        "!python -m spacy download en_core_web_sm\n",
        "!pip install spacytextblob\n",
        "\n",
        "import pkg_resources, imp\n",
        "imp.reload(pkg_resources)\n"
      ],
      "metadata": {
        "id": "HFg9HhQ-GvTc"
      },
      "execution_count": null,
      "outputs": []
    },
    {
      "cell_type": "markdown",
      "source": [
        "Passo 2: Importando as bibliotecas para análise de sentimento\n"
      ],
      "metadata": {
        "id": "YSxlRIjl_bXD"
      }
    },
    {
      "cell_type": "code",
      "source": [
        "import spacy\n",
        "from spacytextblob.spacytextblob import SpacyTextBlob\n"
      ],
      "metadata": {
        "id": "MkU37TrR_tEo"
      },
      "execution_count": null,
      "outputs": []
    },
    {
      "cell_type": "markdown",
      "source": [
        "Passo 3: Definindo o modelo e a pipeline a serem utilizadas na análise\n"
      ],
      "metadata": {
        "id": "k9hHvah7G3xQ"
      }
    },
    {
      "cell_type": "code",
      "source": [
        "nlp = spacy.load('en_core_web_sm')\n",
        "nlp.add_pipe('spacytextblob')\n"
      ],
      "metadata": {
        "id": "HMoEsWYoG5-C"
      },
      "execution_count": null,
      "outputs": []
    },
    {
      "cell_type": "markdown",
      "source": [
        "Passo 4: Definindo o texto inicial a ser analisado para verificação/validação da biblioteca\n"
      ],
      "metadata": {
        "id": "JMbGh1WNG7QE"
      }
    },
    {
      "cell_type": "code",
      "source": [
        "user_input = 'This is a wonderful campsite. I loved the serenity and the birds chirping in the morning.'\n",
        "doc = nlp(user_input)\n"
      ],
      "metadata": {
        "id": "Yp7rQZtcG8KP"
      },
      "execution_count": null,
      "outputs": []
    },
    {
      "cell_type": "markdown",
      "source": [
        "Passo 5: Exibindo o resultado da primeira análise (um range entre -1 [avaliação negativa] e 1 [avaliação positiva])\n"
      ],
      "metadata": {
        "id": "nFzQhj70HAFS"
      }
    },
    {
      "cell_type": "code",
      "source": [
        "input_polarity = doc._.polarity\n",
        "sentiment = {\n",
        "    'score': input_polarity\n",
        "}\n",
        "print(sentiment)\n"
      ],
      "metadata": {
        "id": "qRFu4eraHB6s"
      },
      "execution_count": null,
      "outputs": []
    },
    {
      "cell_type": "markdown",
      "source": [
        "Passo 6: Definindo a lista de tweets a serem analisadas\n"
      ],
      "metadata": {
        "id": "pA43gX7_HDQU"
      }
    },
    {
      "cell_type": "code",
      "source": [
        "tweets = [\n",
        "    \"Bayer Leverkusen goalkeeper Bernd Leno will not be going to Napoli. ...\",\n",
        "    \"@ChelseaFC For the first time in a long while, my heart was relaxed ...\",\n",
        "]\n"
      ],
      "metadata": {
        "id": "8WbegvSgHEIf"
      },
      "execution_count": null,
      "outputs": []
    },
    {
      "cell_type": "markdown",
      "source": [
        "Passo 7: Analisando os tweets\n"
      ],
      "metadata": {
        "id": "mtFiF_YtHIl9"
      }
    },
    {
      "cell_type": "code",
      "source": [
        "for item in tweets:\n",
        "    doc = nlp(item)\n",
        "    input_polarity = doc._.polarity\n",
        "    sentiment = {\n",
        "        'tweet': item,\n",
        "        'score': input_polarity\n",
        "    }\n",
        "    print(sentiment)\n"
      ],
      "metadata": {
        "id": "pcRLM7ouHJHK"
      },
      "execution_count": null,
      "outputs": []
    }
  ]
}